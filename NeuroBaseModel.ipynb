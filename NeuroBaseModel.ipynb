{
 "cells": [
  {
   "cell_type": "code",
   "execution_count": 2,
   "id": "c9392f72",
   "metadata": {},
   "outputs": [],
   "source": [
    "import os"
   ]
  },
  {
   "cell_type": "code",
   "execution_count": 4,
   "id": "1642ddc9",
   "metadata": {},
   "outputs": [
    {
     "name": "stdout",
     "output_type": "stream",
     "text": [
      "['images/pi_co_t1', 'images/pi_sa_t1', 'images/gl_co_t1', 'images/pi_ax_t1', 'images/me_co_t1', 'images/gl_ax_t1', 'images/gl_sa_t1', 'images/me_sa_t1', 'images/me_ax_t1', 'masks/pi_co_t1', 'masks/pi_sa_t1', 'masks/gl_co_t1', 'masks/pi_ax_t1', 'masks/me_co_t1', 'masks/gl_ax_t1', 'masks/gl_sa_t1', 'masks/me_sa_t1', 'masks/me_ax_t1']\n"
     ]
    }
   ],
   "source": [
    "#itersting thorugh my folder to find the corredct sub directory,\n",
    "# and start of path setup for dictionary and sub folder organization \n",
    "\n",
    "#var steup \n",
    "data = 'brisc2025' #root \n",
    "path_segtask = 'brisc2025/segmentation_task/train' #seg path \n",
    "file_paths = [] #file path storage\n",
    "\n",
    "\n",
    "for root, dirs, files in os.walk(data):\n",
    "    for d in dirs: #dierectory iteration \n",
    "        directories = os.path.join(root, d) #join \n",
    "        if directories.startswith(path_segtask): #image iteration \n",
    "            for images in os.listdir(directories):\n",
    "                if (images.endswith(\".jpg\")):\n",
    "                    path = directories.replace(\"brisc2025/segmentation_task/train/\", \"\") #removing full path for appened\n",
    "                    img = images.replace(\".jpg\", \"\")\n",
    "                    s = img.split('_')\n",
    "                    key = \"_\".join(s[-3:])\n",
    "                    a = path + \"/\" + key\n",
    "                    #print(a)\n",
    "                    if a in file_paths:\n",
    "                       continue\n",
    "                    else:\n",
    "                       file_paths.append(a)\n",
    "print(file_paths)\n",
    " "
   ]
  },
  {
   "cell_type": "code",
   "execution_count": null,
   "id": "4f861aac",
   "metadata": {},
   "outputs": [
    {
     "name": "stdout",
     "output_type": "stream",
     "text": [
      "image folder is already made\n",
      "['gl_co_t1', 'gl_ax_t1', 'gl_sa_t1', 'pi_sa_t1', 'me_sa_t1', 'me_ax_t1', 'pi_ax_t1', 'pi_co_t1', 'me_co_t1']\n"
     ]
    }
   ],
   "source": [
    "nameI = \"images\"\n",
    "\n",
    "if os.path.isdir(nameI):\n",
    "    print('image folder is already made')\n",
    "else:\n",
    "    os.mkdir(nameI)"
   ]
  },
  {
   "cell_type": "code",
   "execution_count": 39,
   "id": "0afb81c4",
   "metadata": {},
   "outputs": [
    {
     "name": "stdout",
     "output_type": "stream",
     "text": [
      "mask folder is already made\n",
      "['gl_co_t1', 'gl_ax_t1', 'gl_sa_t1', 'pi_sa_t1', 'me_sa_t1', 'me_ax_t1', 'pi_ax_t1', 'pi_co_t1', 'me_co_t1']\n"
     ]
    }
   ],
   "source": [
    "nameM = \"masks\"\n",
    "\n",
    "if os.path.isdir(nameM):\n",
    "    print('mask folder is already made')\n",
    "    print(os.listdir(nameM))\n",
    "else:\n",
    "    os.mkdir(nameM)"
   ]
  },
  {
   "cell_type": "code",
   "execution_count": 42,
   "id": "c2d0c0ca",
   "metadata": {},
   "outputs": [],
   "source": [
    "import shutil"
   ]
  },
  {
   "cell_type": "code",
   "execution_count": null,
   "id": "49ac25c8",
   "metadata": {},
   "outputs": [
    {
     "name": "stdout",
     "output_type": "stream",
     "text": [
      "brisc2025_train_04308_pi_co_t1.jpg pi_co_t1 images/pi_co_t1\n"
     ]
    },
    {
     "ename": "FileNotFoundError",
     "evalue": "[Errno 2] No such file or directory: 'brisc2025_train_04308_pi_co_t1.jpg'",
     "output_type": "error",
     "traceback": [
      "\u001b[0;31m---------------------------------------------------------------------------\u001b[0m",
      "\u001b[0;31mFileNotFoundError\u001b[0m                         Traceback (most recent call last)",
      "File \u001b[0;32m/Library/Frameworks/Python.framework/Versions/3.10/lib/python3.10/shutil.py:805\u001b[0m, in \u001b[0;36mmove\u001b[0;34m(src, dst, copy_function)\u001b[0m\n\u001b[1;32m    804\u001b[0m \u001b[38;5;28;01mtry\u001b[39;00m:\n\u001b[0;32m--> 805\u001b[0m     \u001b[43mos\u001b[49m\u001b[38;5;241;43m.\u001b[39;49m\u001b[43mrename\u001b[49m\u001b[43m(\u001b[49m\u001b[43msrc\u001b[49m\u001b[43m,\u001b[49m\u001b[43m \u001b[49m\u001b[43mreal_dst\u001b[49m\u001b[43m)\u001b[49m\n\u001b[1;32m    806\u001b[0m \u001b[38;5;28;01mexcept\u001b[39;00m \u001b[38;5;167;01mOSError\u001b[39;00m:\n",
      "\u001b[0;31mFileNotFoundError\u001b[0m: [Errno 2] No such file or directory: 'brisc2025_train_04308_pi_co_t1.jpg' -> 'images/pi_co_t1/brisc2025_train_04308_pi_co_t1.jpg'",
      "\nDuring handling of the above exception, another exception occurred:\n",
      "\u001b[0;31mFileNotFoundError\u001b[0m                         Traceback (most recent call last)",
      "Cell \u001b[0;32mIn[90], line 11\u001b[0m\n\u001b[1;32m      9\u001b[0m             \u001b[38;5;28;01mif\u001b[39;00m \u001b[38;5;124m'\u001b[39m\u001b[38;5;124mpi_co_t1\u001b[39m\u001b[38;5;124m'\u001b[39m \u001b[38;5;129;01min\u001b[39;00m dir_ \u001b[38;5;129;01mand\u001b[39;00m \u001b[38;5;124m'\u001b[39m\u001b[38;5;124mpi_co_t1\u001b[39m\u001b[38;5;124m'\u001b[39m \u001b[38;5;129;01min\u001b[39;00m img \u001b[38;5;129;01mand\u001b[39;00m \u001b[38;5;124m'\u001b[39m\u001b[38;5;124mpi_co_t1\u001b[39m\u001b[38;5;124m'\u001b[39m \u001b[38;5;129;01min\u001b[39;00m fp:\n\u001b[1;32m     10\u001b[0m                 \u001b[38;5;28mprint\u001b[39m(dir_ \u001b[38;5;241m+\u001b[39m \u001b[38;5;124m\"\u001b[39m\u001b[38;5;124m \u001b[39m\u001b[38;5;124m\"\u001b[39m \u001b[38;5;241m+\u001b[39m img \u001b[38;5;241m+\u001b[39m \u001b[38;5;124m\"\u001b[39m\u001b[38;5;124m \u001b[39m\u001b[38;5;124m\"\u001b[39m \u001b[38;5;241m+\u001b[39m fp)\n\u001b[0;32m---> 11\u001b[0m                 \u001b[43mshutil\u001b[49m\u001b[38;5;241;43m.\u001b[39;49m\u001b[43mmove\u001b[49m\u001b[43m(\u001b[49m\u001b[43mdir_\u001b[49m\u001b[43m,\u001b[49m\u001b[43m \u001b[49m\u001b[43mfp\u001b[49m\u001b[43m)\u001b[49m           \n\u001b[1;32m     12\u001b[0m \u001b[38;5;66;03m#print(\"After moving directories:\")\u001b[39;00m\n\u001b[1;32m     13\u001b[0m \u001b[38;5;66;03m#print(os.listdir(base))\u001b[39;00m\n",
      "File \u001b[0;32m/Library/Frameworks/Python.framework/Versions/3.10/lib/python3.10/shutil.py:825\u001b[0m, in \u001b[0;36mmove\u001b[0;34m(src, dst, copy_function)\u001b[0m\n\u001b[1;32m    823\u001b[0m         rmtree(src)\n\u001b[1;32m    824\u001b[0m     \u001b[38;5;28;01melse\u001b[39;00m:\n\u001b[0;32m--> 825\u001b[0m         \u001b[43mcopy_function\u001b[49m\u001b[43m(\u001b[49m\u001b[43msrc\u001b[49m\u001b[43m,\u001b[49m\u001b[43m \u001b[49m\u001b[43mreal_dst\u001b[49m\u001b[43m)\u001b[49m\n\u001b[1;32m    826\u001b[0m         os\u001b[38;5;241m.\u001b[39munlink(src)\n\u001b[1;32m    827\u001b[0m \u001b[38;5;28;01mreturn\u001b[39;00m real_dst\n",
      "File \u001b[0;32m/Library/Frameworks/Python.framework/Versions/3.10/lib/python3.10/shutil.py:434\u001b[0m, in \u001b[0;36mcopy2\u001b[0;34m(src, dst, follow_symlinks)\u001b[0m\n\u001b[1;32m    432\u001b[0m \u001b[38;5;28;01mif\u001b[39;00m os\u001b[38;5;241m.\u001b[39mpath\u001b[38;5;241m.\u001b[39misdir(dst):\n\u001b[1;32m    433\u001b[0m     dst \u001b[38;5;241m=\u001b[39m os\u001b[38;5;241m.\u001b[39mpath\u001b[38;5;241m.\u001b[39mjoin(dst, os\u001b[38;5;241m.\u001b[39mpath\u001b[38;5;241m.\u001b[39mbasename(src))\n\u001b[0;32m--> 434\u001b[0m \u001b[43mcopyfile\u001b[49m\u001b[43m(\u001b[49m\u001b[43msrc\u001b[49m\u001b[43m,\u001b[49m\u001b[43m \u001b[49m\u001b[43mdst\u001b[49m\u001b[43m,\u001b[49m\u001b[43m \u001b[49m\u001b[43mfollow_symlinks\u001b[49m\u001b[38;5;241;43m=\u001b[39;49m\u001b[43mfollow_symlinks\u001b[49m\u001b[43m)\u001b[49m\n\u001b[1;32m    435\u001b[0m copystat(src, dst, follow_symlinks\u001b[38;5;241m=\u001b[39mfollow_symlinks)\n\u001b[1;32m    436\u001b[0m \u001b[38;5;28;01mreturn\u001b[39;00m dst\n",
      "File \u001b[0;32m/Library/Frameworks/Python.framework/Versions/3.10/lib/python3.10/shutil.py:254\u001b[0m, in \u001b[0;36mcopyfile\u001b[0;34m(src, dst, follow_symlinks)\u001b[0m\n\u001b[1;32m    252\u001b[0m     os\u001b[38;5;241m.\u001b[39msymlink(os\u001b[38;5;241m.\u001b[39mreadlink(src), dst)\n\u001b[1;32m    253\u001b[0m \u001b[38;5;28;01melse\u001b[39;00m:\n\u001b[0;32m--> 254\u001b[0m     \u001b[38;5;28;01mwith\u001b[39;00m \u001b[38;5;28;43mopen\u001b[39;49m\u001b[43m(\u001b[49m\u001b[43msrc\u001b[49m\u001b[43m,\u001b[49m\u001b[43m \u001b[49m\u001b[38;5;124;43m'\u001b[39;49m\u001b[38;5;124;43mrb\u001b[39;49m\u001b[38;5;124;43m'\u001b[39;49m\u001b[43m)\u001b[49m \u001b[38;5;28;01mas\u001b[39;00m fsrc:\n\u001b[1;32m    255\u001b[0m         \u001b[38;5;28;01mtry\u001b[39;00m:\n\u001b[1;32m    256\u001b[0m             \u001b[38;5;28;01mwith\u001b[39;00m \u001b[38;5;28mopen\u001b[39m(dst, \u001b[38;5;124m'\u001b[39m\u001b[38;5;124mwb\u001b[39m\u001b[38;5;124m'\u001b[39m) \u001b[38;5;28;01mas\u001b[39;00m fdst:\n\u001b[1;32m    257\u001b[0m                 \u001b[38;5;66;03m# macOS\u001b[39;00m\n",
      "\u001b[0;31mFileNotFoundError\u001b[0m: [Errno 2] No such file or directory: 'brisc2025_train_04308_pi_co_t1.jpg'"
     ]
    }
   ],
   "source": [
    "#Trting to move files nito appropriate sub dierectors of new folders\n",
    "base = 'brisc2025/segmentation_task/train/images'\n",
    "seg_dirs = os.listdir(base)\n",
    "ImgPaths = os.listdir(nameI)\n",
    "\n",
    "for fp in file_paths:\n",
    "    for dir_ in seg_dirs:\n",
    "        for img in ImgPaths:\n",
    "            if 'pi_co_t1' in dir_ and 'pi_co_t1' in img and 'pi_co_t1' in fp:\n",
    "                print(dir_ + \" \" + img + \" \" + fp)\n",
    "                shutil.move(dir_, fp)           \n",
    "#print(\"After moving directories:\")\n",
    "#print(os.listdir(base))\n"
   ]
  },
  {
   "cell_type": "code",
   "execution_count": null,
   "id": "acc93e76",
   "metadata": {},
   "outputs": [],
   "source": []
  }
 ],
 "metadata": {
  "kernelspec": {
   "display_name": ".venv (3.10.1)",
   "language": "python",
   "name": "python3"
  },
  "language_info": {
   "codemirror_mode": {
    "name": "ipython",
    "version": 3
   },
   "file_extension": ".py",
   "mimetype": "text/x-python",
   "name": "python",
   "nbconvert_exporter": "python",
   "pygments_lexer": "ipython3",
   "version": "3.10.1"
  }
 },
 "nbformat": 4,
 "nbformat_minor": 5
}
