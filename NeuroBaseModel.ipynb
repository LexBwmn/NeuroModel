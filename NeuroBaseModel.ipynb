{
 "cells": [
  {
   "cell_type": "code",
   "execution_count": 1,
   "id": "c9392f72",
   "metadata": {},
   "outputs": [],
   "source": [
    "import os"
   ]
  },
  {
   "cell_type": "code",
   "execution_count": 7,
   "id": "1642ddc9",
   "metadata": {},
   "outputs": [],
   "source": [
    "#itersting thorugh my folder to find the corredct sub directory,\n",
    "# and start of path setup for dictionary and sub folder organization \n",
    "\n",
    "#var steup \n",
    "data = 'brisc2025' #root \n",
    "path_segtask = 'brisc2025/segmentation_task/train' #seg path \n",
    "file_paths = [] #file path storage\n",
    "\n",
    "for root, dirs, files in os.walk(data):\n",
    "    for d in dirs: #dierectory iteration \n",
    "        directories = os.path.join(root, d) #join \n",
    "        if directories.startswith(path_segtask): #image iteration \n",
    "            for images in os.listdir(directories):\n",
    "                if (images.endswith(\".jpg\")):\n",
    "                    print(images)\n",
    "                    path = directories.replace(\"brisc2025/segmentation_task/train\", \"\") #removing full path for appened\n",
    "                    #print(path)\n",
    "                    img = images.replace(\".jpg\", \"\")\n",
    "                    s = img.split('_')\n",
    "                    key = \"_\".join(s[-3:])\n",
    "                    a = path + \"/\" + key\n",
    "                    print(a)\n",
    "                    if a in file_paths:\n",
    "                       continue\n",
    "                    else:\n",
    "                       file_paths.append(a)\n",
    "#print(file_paths)    "
   ]
  },
  {
   "cell_type": "code",
   "execution_count": 3,
   "id": "05fae581",
   "metadata": {},
   "outputs": [],
   "source": [
    "segmentation = '/brisc2025/segmentation_task'\n",
    "\n",
    "for x in file_paths:\n",
    "    os.path.join(segmentation, x)\n",
    "    os.makedirs(x, exist_ok=True)"
   ]
  },
  {
   "cell_type": "code",
   "execution_count": 4,
   "id": "767755a7",
   "metadata": {},
   "outputs": [
    {
     "name": "stdout",
     "output_type": "stream",
     "text": [
      "Current working directory: /Users/alexabowman/NeuroModel\n"
     ]
    }
   ],
   "source": [
    "\n",
    "print(\"Current working directory:\", os.path.abspath('.'))"
   ]
  },
  {
   "cell_type": "code",
   "execution_count": 5,
   "id": "8b6c2a04",
   "metadata": {},
   "outputs": [],
   "source": [
    "import numpy as np\n",
    "import tensorflow as tf\n",
    "from matplotlib import pyplot as plt"
   ]
  },
  {
   "cell_type": "code",
   "execution_count": 4,
   "id": "9804d3c6",
   "metadata": {},
   "outputs": [
    {
     "name": "stdout",
     "output_type": "stream",
     "text": [
      "Found 7866 files belonging to 2 classes.\n"
     ]
    }
   ],
   "source": [
    "#locating our images files us tensorflow image helper \n",
    "segtask = tf.keras.utils.image_dataset_from_directory('brisc2025/segmentation_task/train')"
   ]
  },
  {
   "cell_type": "code",
   "execution_count": 19,
   "id": "544b82f5",
   "metadata": {},
   "outputs": [],
   "source": [
    "fig, ax = plt.subplots(ncols=4, figsize=(20,20))\n",
    "for idx, img in enumerate(batch[0][:4]):\n",
    "    ax[idx].imshow(img.astype(int))\n",
    "    ax[idx].title.set_text(batch[1][idx])"
   ]
  },
  {
   "cell_type": "code",
   "execution_count": null,
   "id": "f3adb293",
   "metadata": {},
   "outputs": [],
   "source": []
  }
 ],
 "metadata": {
  "kernelspec": {
   "display_name": ".venv (3.10.1)",
   "language": "python",
   "name": "python3"
  },
  "language_info": {
   "codemirror_mode": {
    "name": "ipython",
    "version": 3
   },
   "file_extension": ".py",
   "mimetype": "text/x-python",
   "name": "python",
   "nbconvert_exporter": "python",
   "pygments_lexer": "ipython3",
   "version": "3.10.1"
  }
 },
 "nbformat": 4,
 "nbformat_minor": 5
}
