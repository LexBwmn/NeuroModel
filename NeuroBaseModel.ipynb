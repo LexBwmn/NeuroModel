{
 "cells": [
  {
   "cell_type": "code",
   "execution_count": 1,
   "id": "c9392f72",
   "metadata": {},
   "outputs": [],
   "source": [
    "import os\n",
    "import shutil"
   ]
  },
  {
   "cell_type": "code",
   "execution_count": 2,
   "id": "49ac25c8",
   "metadata": {},
   "outputs": [],
   "source": [
    "base_image_path = 'brisc2025/segmentation_task/train/images'\n",
    "nameImage = 'Sorted_Images'\n",
    "folders_set = set()\n",
    "\n",
    "bip = os.listdir(base_image_path)\n",
    "\n",
    "for b in bip:\n",
    "    remove_jpg =  b.replace(\".jpg\", \"\")\n",
    "    split_b = remove_jpg.split('_')\n",
    "    folder = '_'.join(split_b[3:6])\n",
    "    folders_set.add(folder)\n",
    "    \n",
    "    if not os.path.isdir(nameImage):\n",
    "        os.mkdir(nameImage)\n",
    "        print(f\"Folder '{nameImage}' created.\") \n",
    "\n",
    "for folder in folders_set:\n",
    "        sub = os.path.join(nameImage, folder)\n",
    "        os.makedirs(sub, exist_ok=True)\n",
    "        print(f\"Folder '{sub}' created successfully.\") "
   ]
  },
  {
   "cell_type": "code",
   "execution_count": 3,
   "id": "5c20496b",
   "metadata": {},
   "outputs": [],
   "source": [
    "base_mask_path = 'brisc2025/segmentation_task/train/masks'\n",
    "nameMask = 'Sorted_Masks'\n",
    "folders_set = set()\n",
    "\n",
    "bip = os.listdir(base_mask_path)\n",
    "\n",
    "for b in bip:\n",
    "    remove_jpg =  b.replace(\".jpg\", \"\")\n",
    "    split_b = remove_jpg.split('_')\n",
    "    folder = '_'.join(split_b[3:6])\n",
    "    folders_set.add(folder)\n",
    "    print(folders_set)\n",
    "    if not os.path.isdir(nameMask):\n",
    "        os.mkdir(nameMask)\n",
    "        print(f\"Folder '{nameMask}' created.\") \n",
    "\n",
    "for folder in folders_set:\n",
    "        sub = os.path.join(nameMask, folder)\n",
    "        os.makedirs(sub, exist_ok=True)\n",
    "        print(f\"Folder '{sub}' created successfully.\") "
   ]
  },
  {
   "cell_type": "code",
   "execution_count": 4,
   "id": "25bfa0fa",
   "metadata": {},
   "outputs": [],
   "source": [
    "source_d = 'brisc2025/segmentation_task/train/masks' #change for basedir\n",
    "dest_d = 'Sorted_Masks/pi_sa_t1' #change accordingly for subdir\n",
    "\n",
    "for images in os.listdir(source_d):\n",
    "    s_path = os.path.join(source_d, images)\n",
    "    d_path = os.path.join(dest_d, images)\n",
    "\n",
    "    if os.path.isfile(s_path):\n",
    "        if images.__contains__('pi_sa_t1'): #chnage accordingly for subdir\n",
    "            shutil.move(s_path, d_path)\n",
    "            print(f\"Moved '{images}' to '{d_path}'\")"
   ]
  },
  {
   "cell_type": "code",
   "execution_count": null,
   "id": "efc91856",
   "metadata": {},
   "outputs": [],
   "source": [
    "sort_images = 'Sorted_Images'\n",
    "sort_masks = 'Sorted_Masks'\n",
    "\n",
    "\n",
    "for dirpath, dirname, files in os.walk(sort_images):\n",
    "    for f1 in files:\n",
    "        sort_image_path = os.path.join(dirpath, f1) \n",
    "        \n",
    "for dirpath, dirname, files in os.walk(sort_masks):\n",
    "    for f2 in files:\n",
    "        sort_mask_path = os.path.join(dirpath, f2)\n",
    "        split_smp = sort_mask_path.split('_')\n",
    "        code_numberM = split_smp[5]\n",
    "    \n",
    "    for f in files:\n",
    "        if f.__contains__(code_numberM):\n",
    "                print(sort_mask_path)\n",
    "                print(code_numberM)\n"
   ]
  },
  {
   "cell_type": "code",
   "execution_count": 6,
   "id": "a6108f3e",
   "metadata": {},
   "outputs": [],
   "source": [
    "numkeys = []\n",
    "\n",
    "for dirpath, dirname, files in os.walk(sort_images):\n",
    "    for f in files:\n",
    "        jpg = f.replace(\".jpg\", \"\")\n",
    "        split = jpg.split('_')\n",
    "        numkey = split[2:6]\n",
    "        joined_numkey = '_'.join(numkey)\n",
    "        numkeys.append(joined_numkey) "
   ]
  },
  {
   "cell_type": "code",
   "execution_count": null,
   "id": "af214c97",
   "metadata": {},
   "outputs": [],
   "source": [
    "#d_(x) <- dierectory \n",
    "#dn_(x) <- directory name\n",
    "#f_(x) <- files in direcotry \n",
    "\n",
    "batch_paths = []\n",
    "\n",
    "for (d_m, dn_ms, f_m), (d_i, dn_is, f_i) in zip(os.walk(sort_masks), os.walk(sort_images)):\n",
    "        for f1, f2 in zip(f_i, f_m):\n",
    "               full_path_i = os.path.join(d_i, f1)\n",
    "               full_path_m = os.path.join(d_m, f2)\n",
    "               \n",
    "               for n in numkeys:\n",
    "                       if full_path_i.__contains__(n) and full_path_m.__contains__(n):\n",
    "                               batch_paths.append((full_path_i, full_path_m))\n",
    "\n",
    "for batch in batch_paths:\n",
    "    print(batch)"
   ]
  },
  {
   "cell_type": "code",
   "execution_count": 24,
   "id": "3860c728",
   "metadata": {},
   "outputs": [],
   "source": [
    "import torch\n",
    "from torchvision import transforms \n",
    "from torch.utils.data import Dataset, DataLoader\n",
    "from PIL import Image"
   ]
  },
  {
   "cell_type": "code",
   "execution_count": 25,
   "id": "5bb5d2b1",
   "metadata": {},
   "outputs": [
    {
     "name": "stdout",
     "output_type": "stream",
     "text": [
      "2.8.0\n"
     ]
    }
   ],
   "source": [
    "print(torch.__version__)"
   ]
  },
  {
   "cell_type": "code",
   "execution_count": null,
   "id": "0d05f30c",
   "metadata": {},
   "outputs": [],
   "source": [
    "\n",
    "#IMG and Mask Transformations (resize 224, 224), tensor output\n",
    "transform_img = transforms.Compose([\n",
    "    transforms.Resize((224, 224)),\n",
    "    transforms.ToTensor()\n",
    "])\n",
    "\n",
    "transform_mask = transforms.Compose([\n",
    "    transforms.Resize((224, 224)),\n",
    "    transforms.ToTensor()\n",
    "])\n",
    "\n",
    "#storage \n",
    "Tensor_Batch = []\n",
    "\n",
    "for img_path, mask_path in batch_paths:\n",
    "    \n",
    "    image = Image.open(img_path).convert('L')\n",
    "    mask = Image.open(mask_path).convert('L')\n",
    "\n",
    "    tensorI = transform_img(image)\n",
    "    tensorM = transform_mask(mask)\n",
    "    Tensor_Batch.append((tensorI, tensorM))\n",
    "\n",
    "print(\"size of dataset after processing:\", len(Tensor_Batch))"
   ]
  },
  {
   "cell_type": "code",
   "execution_count": 10,
   "id": "6e2977b1",
   "metadata": {},
   "outputs": [],
   "source": [
    "#Custom Dataset\n",
    "\n",
    "class ImageMask(Dataset):\n",
    "\n",
    "    def __init__(self, batches, transform):\n",
    "        self.data = batches \n",
    "        self.transform = transform\n",
    "\n",
    "    def __len__(self):\n",
    "        return len(self.data)\n",
    "    \n",
    "    def __getitem__(self, idx):\n",
    "       image = self.data[idx]\n",
    "\n",
    "       if self.transform:\n",
    "           image = self.transform(image)\n",
    "\n",
    "       return image"
   ]
  },
  {
   "cell_type": "code",
   "execution_count": null,
   "id": "5ef1a7c3",
   "metadata": {},
   "outputs": [],
   "source": [
    "custom_ds = ImageMask(Tensor_Batch, transform=True)\n",
    "\n",
    "batch_size = 32\n",
    "dl = DataLoader(Tensor_Batch, batch_size= batch_size, shuffle=False )\n",
    "\n",
    "for batch in dl:\n",
    "    print(type(batch)) # <class 'list>\n",
    "    print(len(dl)) #amount per batch (3933/32 = 123)\n",
    "    print(len(batch)) #2\n",
    "    print(\"Dataset size:\", len(dl.dataset)) #size of dataset\n",
    "    break\n"
   ]
  },
  {
   "cell_type": "code",
   "execution_count": 37,
   "id": "2f6b1742",
   "metadata": {},
   "outputs": [],
   "source": [
    "import matplotlib.pyplot as plt"
   ]
  },
  {
   "cell_type": "code",
   "execution_count": null,
   "id": "8fc6e948",
   "metadata": {},
   "outputs": [],
   "source": [
    "#check that image and mask post tensor transform still line up\n",
    "# (batch [0])\n",
    "\n",
    "target_idx = 47 #batch entered \n",
    "target_pair = 10 #target pair\n",
    "\n",
    "for batch, (images, masks) in enumerate (dl): #idx loop\n",
    "    if batch == target_idx:\n",
    "       \n",
    "        img = images[target_pair].squeeze() # going from [1, 32, 224, 224] -> [224, 224]\n",
    "        mask = masks[target_pair].squeeze() # going from [1, 32, 224, 224] -> [224, 224]\n",
    "        \n",
    "        # plotting stuff \n",
    "        fig, axs = plt.subplots(1, 2, figsize=(8, 4))\n",
    "\n",
    "        axs[0].imshow(img, cmap=\"gray\")\n",
    "        axs[0].set_title(\"Image\")\n",
    "        axs[0].axis(\"off\")\n",
    "\n",
    "        axs[1].imshow(mask, cmap=\"gray\")\n",
    "        axs[1].set_title(\"Mask\")\n",
    "        axs[1].axis(\"off\")\n",
    "\n",
    "        plt.show()\n",
    "        break"
   ]
  },
  {
   "cell_type": "code",
   "execution_count": null,
   "id": "e0b30827",
   "metadata": {},
   "outputs": [],
   "source": [
    "# more plotting stuff to confrim img line up\n",
    "fig, ax = plt.subplots(figsize=(3, 3))\n",
    "ax.imshow(img, cmap=\"gray\")\n",
    "ax.imshow(mask, cmap=\"Reds\", alpha=0.4)  # overlay mask in red\n",
    "ax.set_title(\"Overlay\")\n",
    "ax.axis(\"off\")\n",
    "plt.show()"
   ]
  }
 ],
 "metadata": {
  "kernelspec": {
   "display_name": ".venv (3.10.1)",
   "language": "python",
   "name": "python3"
  },
  "language_info": {
   "codemirror_mode": {
    "name": "ipython",
    "version": 3
   },
   "file_extension": ".py",
   "mimetype": "text/x-python",
   "name": "python",
   "nbconvert_exporter": "python",
   "pygments_lexer": "ipython3",
   "version": "3.10.1"
  }
 },
 "nbformat": 4,
 "nbformat_minor": 5
}
