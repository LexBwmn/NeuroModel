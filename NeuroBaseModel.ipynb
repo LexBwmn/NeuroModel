{
 "cells": [
  {
   "cell_type": "code",
   "execution_count": 1,
   "id": "c9392f72",
   "metadata": {},
   "outputs": [],
   "source": [
    "import os\n",
    "import shutil"
   ]
  },
  {
   "cell_type": "code",
   "execution_count": 2,
   "id": "49ac25c8",
   "metadata": {},
   "outputs": [],
   "source": [
    "base_image_path = 'brisc2025/segmentation_task/train/images'\n",
    "nameImage = 'Sorted_Images'\n",
    "folders_set = set()\n",
    "\n",
    "bip = os.listdir(base_image_path)\n",
    "\n",
    "for b in bip:\n",
    "    remove_jpg =  b.replace(\".jpg\", \"\")\n",
    "    split_b = remove_jpg.split('_')\n",
    "    folder = '_'.join(split_b[3:6])\n",
    "    folders_set.add(folder)\n",
    "    \n",
    "    if not os.path.isdir(nameImage):\n",
    "        os.mkdir(nameImage)\n",
    "        print(f\"Folder '{nameImage}' created.\") \n",
    "\n",
    "for folder in folders_set:\n",
    "        sub = os.path.join(nameImage, folder)\n",
    "        os.makedirs(sub, exist_ok=True)\n",
    "        print(f\"Folder '{sub}' created successfully.\") "
   ]
  },
  {
   "cell_type": "code",
   "execution_count": 3,
   "id": "5c20496b",
   "metadata": {},
   "outputs": [],
   "source": [
    "base_mask_path = 'brisc2025/segmentation_task/train/masks'\n",
    "nameMask = 'Sorted_Masks'\n",
    "folders_set = set()\n",
    "\n",
    "bip = os.listdir(base_mask_path)\n",
    "\n",
    "for b in bip:\n",
    "    remove_jpg =  b.replace(\".jpg\", \"\")\n",
    "    split_b = remove_jpg.split('_')\n",
    "    folder = '_'.join(split_b[3:6])\n",
    "    folders_set.add(folder)\n",
    "    print(folders_set)\n",
    "    if not os.path.isdir(nameMask):\n",
    "        os.mkdir(nameMask)\n",
    "        print(f\"Folder '{nameMask}' created.\") \n",
    "\n",
    "for folder in folders_set:\n",
    "        sub = os.path.join(nameMask, folder)\n",
    "        os.makedirs(sub, exist_ok=True)\n",
    "        print(f\"Folder '{sub}' created successfully.\") "
   ]
  },
  {
   "cell_type": "code",
   "execution_count": 4,
   "id": "25bfa0fa",
   "metadata": {},
   "outputs": [],
   "source": [
    "source_d = 'brisc2025/segmentation_task/train/masks' #change for basedir\n",
    "dest_d = 'Sorted_Masks/pi_sa_t1' #change accordingly for subdir\n",
    "\n",
    "for images in os.listdir(source_d):\n",
    "    s_path = os.path.join(source_d, images)\n",
    "    d_path = os.path.join(dest_d, images)\n",
    "\n",
    "    if os.path.isfile(s_path):\n",
    "        if images.__contains__('pi_sa_t1'): #chnage accordingly for subdir\n",
    "            shutil.move(s_path, d_path)\n",
    "            print(f\"Moved '{images}' to '{d_path}'\")"
   ]
  },
  {
   "cell_type": "code",
   "execution_count": null,
   "id": "efc91856",
   "metadata": {},
   "outputs": [],
   "source": [
    "sort_images = 'Sorted_Images'\n",
    "sort_masks = 'Sorted_Masks'\n",
    "\n",
    "\n",
    "for dirpath, dirname, files in os.walk(sort_images):\n",
    "    for f1 in files:\n",
    "        sort_image_path = os.path.join(dirpath, f1) \n",
    "        \n",
    "for dirpath, dirname, files in os.walk(sort_masks):\n",
    "    for f2 in files:\n",
    "        sort_mask_path = os.path.join(dirpath, f2)\n",
    "        split_smp = sort_mask_path.split('_')\n",
    "        code_numberM = split_smp[5]\n",
    "    \n",
    "    for f in files:\n",
    "        if f.__contains__(code_numberM):\n",
    "                print(sort_mask_path)\n",
    "                print(code_numberM)\n"
   ]
  },
  {
   "cell_type": "code",
   "execution_count": 6,
   "id": "a6108f3e",
   "metadata": {},
   "outputs": [],
   "source": [
    "numkeys = []\n",
    "\n",
    "for dirpath, dirname, files in os.walk(sort_images):\n",
    "    for f in files:\n",
    "        jpg = f.replace(\".jpg\", \"\")\n",
    "        split = jpg.split('_')\n",
    "        numkey = split[2:6]\n",
    "        joined_numkey = '_'.join(numkey)\n",
    "        numkeys.append(joined_numkey) "
   ]
  },
  {
   "cell_type": "code",
   "execution_count": null,
   "id": "af214c97",
   "metadata": {},
   "outputs": [],
   "source": [
    "#d_(x) <- dierectory \n",
    "#dn_(x) <- directory name\n",
    "#f_(x) <- files in direcotry \n",
    "\n",
    "batch_paths = []\n",
    "\n",
    "for (d_m, dn_ms, f_m), (d_i, dn_is, f_i) in zip(os.walk(sort_masks), os.walk(sort_images)):\n",
    "        for f1, f2 in zip(f_i, f_m):\n",
    "               full_path_i = os.path.join(d_i, f1)\n",
    "               full_path_m = os.path.join(d_m, f2)\n",
    "               \n",
    "               for n in numkeys:\n",
    "                       if full_path_i.__contains__(n) and full_path_m.__contains__(n):\n",
    "                               batch_paths.append((full_path_i, full_path_m))\n",
    "\n",
    "for batch in batch_paths:\n",
    "    print(batch)"
   ]
  },
  {
   "cell_type": "code",
   "execution_count": 13,
   "id": "3860c728",
   "metadata": {},
   "outputs": [],
   "source": [
    "import torch\n",
    "from torch.utils.data import Dataset\n",
    "from PIL import Image"
   ]
  },
  {
   "cell_type": "code",
   "execution_count": 17,
   "id": "230852e5",
   "metadata": {},
   "outputs": [
    {
     "name": "stdout",
     "output_type": "stream",
     "text": [
      "Image Path: Sorted_Images/gl_co_t1/brisc2025_train_00597_gl_co_t1.jpg\n",
      "Image Path: Sorted_Masks/gl_co_t1/brisc2025_train_00597_gl_co_t1.jpg\n",
      "Image Path: Sorted_Images/gl_co_t1/brisc2025_train_00568_gl_co_t1.jpg\n",
      "Image Path: Sorted_Masks/gl_co_t1/brisc2025_train_00568_gl_co_t1.jpg\n"
     ]
    }
   ],
   "source": [
    "#making sure that my paths line up inside of PIL\n",
    "\n",
    "for i, batch in enumerate(batch_paths):\n",
    "    #printing my first 2 batches to see if the mask lines uo with the image \n",
    "    if i == 2:\n",
    "        break\n",
    "    for path in batch:\n",
    "        #printing the prginal paths of where the images and masks came from from my folder structure \n",
    "        print(f\"Image Path: {path}\")\n",
    "        #opening and showing images (batch 1, 2)\n",
    "        image = Image.open(path)\n",
    "        image.show()"
   ]
  }
 ],
 "metadata": {
  "kernelspec": {
   "display_name": ".venv (3.10.1)",
   "language": "python",
   "name": "python3"
  },
  "language_info": {
   "codemirror_mode": {
    "name": "ipython",
    "version": 3
   },
   "file_extension": ".py",
   "mimetype": "text/x-python",
   "name": "python",
   "nbconvert_exporter": "python",
   "pygments_lexer": "ipython3",
   "version": "3.10.1"
  }
 },
 "nbformat": 4,
 "nbformat_minor": 5
}
