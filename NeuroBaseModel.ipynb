{
 "cells": [
  {
   "cell_type": "code",
   "execution_count": 6,
   "id": "c9392f72",
   "metadata": {},
   "outputs": [],
   "source": [
    "import os"
   ]
  },
  {
   "cell_type": "code",
   "execution_count": 8,
   "id": "1642ddc9",
   "metadata": {},
   "outputs": [
    {
     "name": "stdout",
     "output_type": "stream",
     "text": [
      "['images/pi_co_t1', 'images/pi_sa_t1', 'images/gl_co_t1', 'images/pi_ax_t1', 'images/me_co_t1', 'images/gl_ax_t1', 'images/gl_sa_t1', 'images/me_sa_t1', 'images/me_ax_t1', 'masks/pi_co_t1', 'masks/pi_sa_t1', 'masks/gl_co_t1', 'masks/pi_ax_t1', 'masks/me_co_t1', 'masks/gl_ax_t1', 'masks/gl_sa_t1', 'masks/me_sa_t1', 'masks/me_ax_t1']\n"
     ]
    }
   ],
   "source": [
    "#itersting thorugh my folder to find the corredct sub directory,\n",
    "# and start of path setup for dictionary and sub folder organization \n",
    "\n",
    "#var steup \n",
    "data = 'brisc2025' #root \n",
    "path_segtask = 'brisc2025/segmentation_task/train' #seg path \n",
    "file_paths = [] #file path storage\n",
    "\n",
    "\n",
    "for root, dirs, files in os.walk(data):\n",
    "    for d in dirs: #dierectory iteration \n",
    "        directories = os.path.join(root, d) #join \n",
    "        if directories.startswith(path_segtask): #image iteration \n",
    "            for images in os.listdir(directories):\n",
    "                if (images.endswith(\".jpg\")):\n",
    "                    path = directories.replace(\"brisc2025/segmentation_task/train/\", \"\") #removing full path for appened\n",
    "                    img = images.replace(\".jpg\", \"\")\n",
    "                    s = img.split('_')\n",
    "                    key = \"_\".join(s[-3:])\n",
    "                    a = path + \"/\" + key\n",
    "                    #print(a)\n",
    "                    if a in file_paths:\n",
    "                       continue\n",
    "                    else:\n",
    "                       file_paths.append(a)\n",
    "print(file_paths)\n",
    " "
   ]
  },
  {
   "cell_type": "code",
   "execution_count": 11,
   "id": "4f861aac",
   "metadata": {},
   "outputs": [
    {
     "name": "stdout",
     "output_type": "stream",
     "text": [
      "Pathimages/pi_co_t1\n",
      "Pathimages/pi_sa_t1\n",
      "Pathimages/pi_sa_t1\n",
      "Pathimages/gl_co_t1\n",
      "Pathimages/gl_co_t1\n",
      "Pathimages/gl_co_t1\n",
      "Pathimages/pi_ax_t1\n",
      "Pathimages/pi_ax_t1\n",
      "Pathimages/pi_ax_t1\n",
      "Pathimages/pi_ax_t1\n",
      "Pathimages/me_co_t1\n",
      "Pathimages/me_co_t1\n",
      "Pathimages/me_co_t1\n",
      "Pathimages/me_co_t1\n",
      "Pathimages/me_co_t1\n",
      "Pathimages/gl_ax_t1\n",
      "Pathimages/gl_ax_t1\n",
      "Pathimages/gl_ax_t1\n",
      "Pathimages/gl_ax_t1\n",
      "Pathimages/gl_ax_t1\n",
      "Pathimages/gl_ax_t1\n",
      "Pathimages/gl_sa_t1\n",
      "Pathimages/gl_sa_t1\n",
      "Pathimages/gl_sa_t1\n",
      "Pathimages/gl_sa_t1\n",
      "Pathimages/gl_sa_t1\n",
      "Pathimages/gl_sa_t1\n",
      "Pathimages/gl_sa_t1\n",
      "Pathimages/me_sa_t1\n",
      "Pathimages/me_sa_t1\n",
      "Pathimages/me_sa_t1\n",
      "Pathimages/me_sa_t1\n",
      "Pathimages/me_sa_t1\n",
      "Pathimages/me_sa_t1\n",
      "Pathimages/me_sa_t1\n",
      "Pathimages/me_sa_t1\n",
      "Pathimages/me_ax_t1\n",
      "Pathimages/me_ax_t1\n",
      "Pathimages/me_ax_t1\n",
      "Pathimages/me_ax_t1\n",
      "Pathimages/me_ax_t1\n",
      "Pathimages/me_ax_t1\n",
      "Pathimages/me_ax_t1\n",
      "Pathimages/me_ax_t1\n",
      "Pathimages/me_ax_t1\n"
     ]
    }
   ],
   "source": [
    "nameI = \"images\"\n",
    "image_paths = []\n",
    "\n",
    "if os.path.isdir(nameI):\n",
    "    print('image folder is already made')\n",
    "    print(os.listdir(nameI))\n",
    "else:\n",
    "    os.mkdir(nameI)\n",
    "    for fp in file_paths:\n",
    "        if 'images' in fp:\n",
    "            image_paths.append(fp)\n",
    "            for nameI in image_paths:\n",
    "                os.makedirs(nameI, exist_ok=True)\n",
    "                print(f\"Path{fp}\")\n"
   ]
  },
  {
   "cell_type": "code",
   "execution_count": null,
   "id": "0afb81c4",
   "metadata": {},
   "outputs": [
    {
     "name": "stdout",
     "output_type": "stream",
     "text": [
      "Pathmasks\n",
      "Pathmasks\n",
      "Pathmasks\n",
      "Pathmasks\n",
      "Pathmasks\n",
      "Pathmasks\n",
      "Pathmasks\n",
      "Pathmasks\n",
      "Pathmasks\n",
      "Pathmasks\n",
      "Pathmasks\n",
      "Pathmasks\n",
      "Pathmasks\n",
      "Pathmasks\n",
      "Pathmasks\n",
      "Pathmasks\n",
      "Pathmasks\n",
      "Pathmasks\n",
      "Pathmasks\n",
      "Pathmasks\n",
      "Pathmasks\n",
      "Pathmasks\n",
      "Pathmasks\n",
      "Pathmasks\n",
      "Pathmasks\n",
      "Pathmasks\n",
      "Pathmasks\n",
      "Pathmasks\n",
      "Pathmasks\n",
      "Pathmasks\n",
      "Pathmasks\n",
      "Pathmasks\n",
      "Pathmasks\n",
      "Pathmasks\n",
      "Pathmasks\n",
      "Pathmasks\n",
      "Pathmasks\n",
      "Pathmasks\n",
      "Pathmasks\n",
      "Pathmasks\n",
      "Pathmasks\n",
      "Pathmasks\n",
      "Pathmasks\n",
      "Pathmasks\n",
      "Pathmasks\n"
     ]
    }
   ],
   "source": [
    "nameM = \"masks\"\n",
    "mask_paths = []\n",
    "\n",
    "if os.path.isdir(nameM):\n",
    "    print('mask folder is already made')\n",
    "    print(os.listdir(nameM))\n",
    "else:\n",
    "    os.mkdir(nameM)\n",
    "    for fp in file_paths:\n",
    "        if 'mask' in fp:\n",
    "            mask_paths.append(fp)\n",
    "            for nameM in mask_paths:\n",
    "                os.makedirs(nameM, exist_ok=True)\n",
    "                print(f\"Path {path}\")"
   ]
  },
  {
   "cell_type": "code",
   "execution_count": 13,
   "id": "c2d0c0ca",
   "metadata": {},
   "outputs": [],
   "source": [
    "import shutil"
   ]
  },
  {
   "cell_type": "code",
   "execution_count": 15,
   "id": "49ac25c8",
   "metadata": {},
   "outputs": [],
   "source": [
    "#Trting to move files nito appropriate sub dierectors of new folders\n",
    "\n",
    "for root, dirs, files in os.walk(data):\n",
    "    for d in dirs: #dierectory iteration \n",
    "        directories = os.path.join(root, d) #join \n",
    "        if directories.startswith(path_segtask): #image iteration \n",
    "            for images in os.listdir(directories):\n",
    "                l = directories + \"/\" + images\n",
    "                #print(l)\n",
    "                '''\n",
    "                for key in image_keys:\n",
    "                     if (key in l) and (key in os.listdir(nameI) or key in os.listdir(nameM)):\n",
    "                         fileI = '/images'\n",
    "                         fileM = '/masks'\n",
    "\n",
    "                     if (key in l) and (key in os.listdir(nameI)):\n",
    "                         destpath1 = os.path.join(l, fileI)\n",
    "                         if destpath1.__contains__(key):\n",
    "                             shutil.move(images, fileI)\n",
    "                             print(f\"Moved '{l}' to '{key} + {destpath1}'\")\n",
    "                     '''\n"
   ]
  }
 ],
 "metadata": {
  "kernelspec": {
   "display_name": ".venv (3.10.1)",
   "language": "python",
   "name": "python3"
  },
  "language_info": {
   "codemirror_mode": {
    "name": "ipython",
    "version": 3
   },
   "file_extension": ".py",
   "mimetype": "text/x-python",
   "name": "python",
   "nbconvert_exporter": "python",
   "pygments_lexer": "ipython3",
   "version": "3.10.1"
  }
 },
 "nbformat": 4,
 "nbformat_minor": 5
}
